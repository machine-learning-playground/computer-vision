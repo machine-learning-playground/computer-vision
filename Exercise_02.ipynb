{
 "cells": [
  {
   "cell_type": "markdown",
   "metadata": {
    "id": "pU0NfyFfSNlE"
   },
   "source": [
    "---\n",
    "```\n",
    "Class: DPCV - SDH@HK242 - HCMUT\n",
    "Name: Nguyễn Lê Nhật Minh\n",
    "Exercise: 02\n",
    "\n",
    "```\n",
    "---"
   ]
  }
 ],
 "metadata": {
  "colab": {
   "provenance": []
  },
  "kernelspec": {
   "display_name": "Python 3",
   "name": "python3"
  },
  "language_info": {
   "codemirror_mode": {
    "name": "ipython",
    "version": 3
   },
   "file_extension": ".py",
   "mimetype": "text/x-python",
   "name": "python",
   "nbconvert_exporter": "python",
   "pygments_lexer": "ipython3",
   "version": "3.10.0"
  }
 },
 "nbformat": 4,
 "nbformat_minor": 0
}
