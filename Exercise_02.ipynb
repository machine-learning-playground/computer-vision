{
 "cells": [
  {
   "cell_type": "markdown",
   "metadata": {
    "id": "pU0NfyFfSNlE"
   },
   "source": [
    "---\n",
    "```\n",
    "Class: DPCV - SDH@HK242 - HCMUT\n",
    "Name: Nguyễn Lê Nhật Minh\n",
    "Exercise: 02\n",
    "\n",
    "```\n",
    "---"
   ]
  },
  {
   "cell_type": "code",
   "execution_count": 1,
   "metadata": {},
   "outputs": [],
   "source": [
    "import numpy as np"
   ]
  },
  {
   "cell_type": "code",
   "execution_count": null,
   "metadata": {},
   "outputs": [
    {
     "name": "stdout",
     "output_type": "stream",
     "text": [
      "(28709, 48, 48)\n"
     ]
    }
   ],
   "source": [
    "# Tải dataset từ file .npy.\n",
    "# https://drive.google.com/file/d/1ZgUIHN-tM2-W3zfKZnRA0jsq_EDyfxKm/view?usp=sharing\n",
    "fer13_path = './datasets/fer13_v2.npy'\n",
    "dataset = np.load(fer13_path, allow_pickle=True).item()\n",
    "\n",
    "# Chia thành tập train, validation, test.\n",
    "x_train, y_train = dataset['train']\n",
    "x_val, y_val = dataset['val']\n",
    "x_test, y_test = dataset['test']\n",
    "\n",
    "# Tiền xử lý ảnh:\n",
    "# Resize về kích thước 224x224 (phù hợp với mô hình ImageNet).\n",
    "# Chuẩn hóa ảnh (Rescale 1./255).\n",
    "# Áp dụng data augmentation nếu cần (RandomFlip, RandomRotation, RandomZoom).\n",
    "# Chuyển đổi thành tf.data.Dataset để tăng tốc training.\n",
    "\n",
    "# Tham khảo:\n",
    "# Keras preprocessing layers - https://keras.io/api/layers/preprocessing_layers/\n"
   ]
  },
  {
   "cell_type": "code",
   "execution_count": null,
   "metadata": {},
   "outputs": [],
   "source": [
    "# Chọn mô hình pretrained\n",
    "\n",
    "# Dùng tf.keras.applications để load model pretrained trên ImageNet:\n",
    "# tf.keras.applications.ResNet50(include_top=False, weights='imagenet')\n",
    "# tf.keras.applications.MobileNetV2(include_top=False, weights='imagenet')\n",
    "# tf.keras.applications.EfficientNetV2B0(include_top=False, weights='imagenet')\n",
    "# Bỏ fully connected layers cuối (include_top=False).\n",
    "# Thêm các layers mới (Flatten, Dense, Dropout) để phù hợp với số lớp của dataset.\n",
    "\n",
    "# Tham khảo:\n",
    "# Keras Transfer Learning Guide - https://keras.io/guides/transfer_learning/"
   ]
  },
  {
   "cell_type": "code",
   "execution_count": null,
   "metadata": {},
   "outputs": [],
   "source": [
    "# Freeze / Unfreeze Layers\n",
    "\n",
    "# Giai đoạn 1: Transfer Learning (Freeze toàn bộ layers)\n",
    "\n",
    "# Đóng băng (trainable=False) toàn bộ layers của mô hình pretrained.\n",
    "# Chỉ huấn luyện các layers mới vừa thêm vào.\n",
    "# Giai đoạn 2: Fine-tuning (Unfreeze một phần layers)\n",
    "\n",
    "# Mở khóa (trainable=True) một số layer sâu trong mô hình (ví dụ: block cuối của ResNet, MobileNetV2).\n",
    "# Giảm learning rate (lr=1e-4) để tránh phá vỡ trọng số đã học từ ImageNet.\n",
    "# Tiếp tục huấn luyện với số epoch nhỏ hơn.\n",
    "\n",
    "# Tham khảo:\n",
    "# Fine-tuning Keras models - https://www.tensorflow.org/tutorials/images/transfer_learning#fine-tuning"
   ]
  },
  {
   "cell_type": "code",
   "execution_count": null,
   "metadata": {},
   "outputs": [],
   "source": [
    "# Cấu hình training\n",
    "\n",
    "# Loss function: tf.keras.losses.SparseCategoricalCrossentropy()\n",
    "# Optimizer: Adam(learning_rate=0.001)\n",
    "# Metrics: Accuracy\n",
    "# Sử dụng EarlyStopping để tránh overfitting.\n",
    "# Lưu mô hình với ModelCheckpoint.\n",
    "\n",
    "# Tham khảo:\n",
    "# Model training with callbacks"
   ]
  },
  {
   "cell_type": "code",
   "execution_count": null,
   "metadata": {},
   "outputs": [],
   "source": [
    "# Đánh giá & Nhận xét\n",
    "\n",
    "# So sánh kết quả của từng phương pháp:\n",
    "# Freeze toàn bộ layers (Transfer Learning)\n",
    "# Unfreeze 1-2 layers cuối (Fine-tuning một phần)\n",
    "# Unfreeze toàn bộ layers (Fine-tuning toàn bộ mô hình)\n",
    "# Vẽ biểu đồ loss/accuracy qua từng epoch.\n",
    "# Đưa ra nhận xét về mô hình tốt nhất dựa trên độ chính xác (accuracy) và khả năng tổng quát hóa (generalization).\n",
    "\n",
    "# Tham khảo:\n",
    "# Keras Model Evaluation\n"
   ]
  }
 ],
 "metadata": {
  "colab": {
   "provenance": []
  },
  "kernelspec": {
   "display_name": "Python 3",
   "name": "python3"
  },
  "language_info": {
   "codemirror_mode": {
    "name": "ipython",
    "version": 3
   },
   "file_extension": ".py",
   "mimetype": "text/x-python",
   "name": "python",
   "nbconvert_exporter": "python",
   "pygments_lexer": "ipython3",
   "version": "3.10.0rc2"
  }
 },
 "nbformat": 4,
 "nbformat_minor": 0
}
