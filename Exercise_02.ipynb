{
 "cells": [
  {
   "cell_type": "markdown",
   "metadata": {
    "id": "pU0NfyFfSNlE"
   },
   "source": [
    "---\n",
    "```\n",
    "Class: DPCV - SDH@HK242 - HCMUT\n",
    "Name: Nguyễn Lê Nhật Minh\n",
    "Exercise: 02\n",
    "\n",
    "```\n",
    "---"
   ]
  },
  {
   "cell_type": "code",
   "execution_count": 1,
   "metadata": {},
   "outputs": [],
   "source": [
    "import numpy as np\n",
    "import tensorflow as tf"
   ]
  },
  {
   "cell_type": "code",
   "execution_count": null,
   "metadata": {},
   "outputs": [],
   "source": [
    "# Tải dataset từ file .npy.\n",
    "# https://drive.google.com/file/d/1ZgUIHN-tM2-W3zfKZnRA0jsq_EDyfxKm/view?usp=sharing\n",
    "fer13_path = './datasets/fer13_v2.npy'\n",
    "dataset = np.load(fer13_path, allow_pickle=True).item()\n",
    "\n",
    "# Chia thành tập train, validation, test.\n",
    "x_train, y_train = dataset['train']\n",
    "x_val, y_val = dataset['val']\n",
    "x_test, y_test = dataset['test']\n",
    "\n",
    "x_train = tf.convert_to_tensor(x_train, dtype=tf.float32)\n",
    "x_val = tf.convert_to_tensor(x_val, dtype=tf.float32)\n",
    "x_test = tf.convert_to_tensor(x_test, dtype=tf.float32)\n",
    "\n",
    "# Chuyển đổi thành tf.data.Dataset để tăng tốc training.\n",
    "train_ds = tf.data.Dataset.from_tensor_slices((x_train, y_train))\n",
    "val_ds = tf.data.Dataset.from_tensor_slices((x_val, y_val))\n",
    "test_ds = tf.data.Dataset.from_tensor_slices((x_test, y_test))\n",
    "\n",
    "\n",
    "def preprocess(image, label):\n",
    "    # Tiền xử lý ảnh:\n",
    "    if len(image.shape) == 2:  # (48, 48) → (48, 48, 1)\n",
    "        image = tf.expand_dims(image, axis=-1)\n",
    "\n",
    "    image = tf.image.grayscale_to_rgb(image)  # (48, 48, 1) → (48, 48, 3)\n",
    "\n",
    "    # Resize về kích thước 224x224 (phù hợp với mô hình ImageNet).\n",
    "    resize_layer = tf.keras.layers.Resizing(224, 224)\n",
    "    image = resize_layer(image)\n",
    "    # OR image = tf.image.resize(image, (224, 224))\n",
    "\n",
    "    # Chuẩn hóa ảnh (Rescale 1./255).\n",
    "    rescale_layer = tf.keras.layers.Rescaling(1./255)\n",
    "    image = rescale_layer(image)\n",
    "    # OR image = tf.cast(image, tf.float32) / 255.0\n",
    "    return image, label\n",
    "\n",
    "# Áp dụng data augmentation nếu cần (RandomFlip, RandomRotation, RandomZoom).\n",
    "\n",
    "\n",
    "# Áp dụng vào dataset\n",
    "train_ds = train_ds.map(preprocess)\n",
    "val_ds = val_ds.map(preprocess)\n",
    "test_ds = test_ds.map(preprocess)\n",
    "\n",
    "# chatGPT gợi ý nên dùng 3 món này\n",
    "# Without shuffling, the model may overfit.\n",
    "# Without batching, training might be slow.\n",
    "# Without prefetching, GPU usage may be inefficient.\n",
    "BATCH_SIZE = 32\n",
    "AUTOTUNE = tf.data.AUTOTUNE\n",
    "train_ds = train_ds.shuffle(1000).batch(BATCH_SIZE).prefetch(AUTOTUNE)\n",
    "val_ds = val_ds.batch(BATCH_SIZE).prefetch(AUTOTUNE)\n",
    "test_ds = test_ds.batch(BATCH_SIZE).prefetch(AUTOTUNE)"
   ]
  },
  {
   "cell_type": "code",
   "execution_count": null,
   "metadata": {},
   "outputs": [],
   "source": [
    "# Chọn mô hình pretrained\n",
    "\n",
    "# Dùng tf.keras.applications để load model pretrained trên ImageNet:\n",
    "# tf.keras.applications.ResNet50(include_top=False, weights='imagenet')\n",
    "# tf.keras.applications.MobileNetV2(include_top=False, weights='imagenet')\n",
    "# tf.keras.applications.EfficientNetV2B0(include_top=False, weights='imagenet')\n",
    "# Bỏ fully connected layers cuối (include_top=False).\n",
    "# Thêm các layers mới (Flatten, Dense, Dropout) để phù hợp với số lớp của dataset.\n",
    "\n",
    "# Tham khảo:\n",
    "# Keras Transfer Learning Guide - https://keras.io/guides/transfer_learning/"
   ]
  },
  {
   "cell_type": "code",
   "execution_count": null,
   "metadata": {},
   "outputs": [],
   "source": [
    "# Freeze / Unfreeze Layers\n",
    "\n",
    "# Giai đoạn 1: Transfer Learning (Freeze toàn bộ layers)\n",
    "\n",
    "# Đóng băng (trainable=False) toàn bộ layers của mô hình pretrained.\n",
    "# Chỉ huấn luyện các layers mới vừa thêm vào.\n",
    "# Giai đoạn 2: Fine-tuning (Unfreeze một phần layers)\n",
    "\n",
    "# Mở khóa (trainable=True) một số layer sâu trong mô hình (ví dụ: block cuối của ResNet, MobileNetV2).\n",
    "# Giảm learning rate (lr=1e-4) để tránh phá vỡ trọng số đã học từ ImageNet.\n",
    "# Tiếp tục huấn luyện với số epoch nhỏ hơn.\n",
    "\n",
    "# Tham khảo:\n",
    "# Fine-tuning Keras models - https://www.tensorflow.org/tutorials/images/transfer_learning#fine-tuning"
   ]
  },
  {
   "cell_type": "code",
   "execution_count": null,
   "metadata": {},
   "outputs": [],
   "source": [
    "# Cấu hình training\n",
    "\n",
    "# Loss function: tf.keras.losses.SparseCategoricalCrossentropy()\n",
    "# Optimizer: Adam(learning_rate=0.001)\n",
    "# Metrics: Accuracy\n",
    "# Sử dụng EarlyStopping để tránh overfitting.\n",
    "# Lưu mô hình với ModelCheckpoint.\n",
    "\n",
    "# Tham khảo:\n",
    "# Model training with callbacks"
   ]
  },
  {
   "cell_type": "code",
   "execution_count": null,
   "metadata": {},
   "outputs": [],
   "source": [
    "# Đánh giá & Nhận xét\n",
    "\n",
    "# So sánh kết quả của từng phương pháp:\n",
    "# Freeze toàn bộ layers (Transfer Learning)\n",
    "# Unfreeze 1-2 layers cuối (Fine-tuning một phần)\n",
    "# Unfreeze toàn bộ layers (Fine-tuning toàn bộ mô hình)\n",
    "# Vẽ biểu đồ loss/accuracy qua từng epoch.\n",
    "# Đưa ra nhận xét về mô hình tốt nhất dựa trên độ chính xác (accuracy) và khả năng tổng quát hóa (generalization).\n",
    "\n",
    "# Tham khảo:\n",
    "# Keras Model Evaluation\n"
   ]
  }
 ],
 "metadata": {
  "colab": {
   "provenance": []
  },
  "kernelspec": {
   "display_name": "Python 3",
   "name": "python3"
  },
  "language_info": {
   "codemirror_mode": {
    "name": "ipython",
    "version": 3
   },
   "file_extension": ".py",
   "mimetype": "text/x-python",
   "name": "python",
   "nbconvert_exporter": "python",
   "pygments_lexer": "ipython3",
   "version": "3.10.0rc2"
  }
 },
 "nbformat": 4,
 "nbformat_minor": 0
}
