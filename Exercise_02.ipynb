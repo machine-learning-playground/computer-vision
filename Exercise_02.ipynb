{
 "cells": [
  {
   "cell_type": "markdown",
   "metadata": {
    "id": "pU0NfyFfSNlE"
   },
   "source": [
    "---\n",
    "```\n",
    "Class: DPCV - SDH@HK242 - HCMUT\n",
    "Name: Nguyễn Lê Nhật Minh\n",
    "Exercise: 02\n",
    "\n",
    "```\n",
    "---"
   ]
  },
  {
   "cell_type": "code",
   "execution_count": 2,
   "metadata": {},
   "outputs": [
    {
     "name": "stderr",
     "output_type": "stream",
     "text": [
      "c:\\Users\\minhng\\AppData\\Local\\Programs\\Python\\Python310\\lib\\site-packages\\tqdm\\auto.py:21: TqdmWarning: IProgress not found. Please update jupyter and ipywidgets. See https://ipywidgets.readthedocs.io/en/stable/user_install.html\n",
      "  from .autonotebook import tqdm as notebook_tqdm\n"
     ]
    }
   ],
   "source": [
    "import torch\n",
    "import torch.nn as nn\n",
    "import torch.optim as optim\n",
    "import torchvision.transforms as transforms\n",
    "import torchvision.models as models\n",
    "import numpy as np\n",
    "from torch.utils.data import Dataset, DataLoader\n",
    "from sklearn.metrics import accuracy_score, f1_score"
   ]
  },
  {
   "cell_type": "code",
   "execution_count": null,
   "metadata": {},
   "outputs": [
    {
     "name": "stdout",
     "output_type": "stream",
     "text": [
      "Train: (28709, 48, 48), (28709,)\n",
      "Val: (3589, 48, 48), (3589,)\n",
      "Test: (3589, 48, 48), (3589,)\n",
      "[[ 70  80  82 ...  52  43  41]\n",
      " [ 65  61  58 ...  56  52  44]\n",
      " [ 50  43  54 ...  49  56  47]\n",
      " ...\n",
      " [ 91  65  42 ...  72  56  43]\n",
      " [ 77  82  79 ... 105  70  46]\n",
      " [ 77  72  84 ... 106 109  82]]\n"
     ]
    }
   ],
   "source": [
    "# Tải dataset từ file .npy.\n",
    "# https://drive.google.com/file/d/1ZgUIHN-tM2-W3zfKZnRA0jsq_EDyfxKm/view?usp=sharing\n",
    "fer13_path = \"./datasets/fer13_v2.npy\"\n",
    "data = np.load(fer13_path, allow_pickle=True).item()\n",
    "\n",
    "x_train, y_train = data[\"train\"]\n",
    "x_val, y_val = data[\"val\"]\n",
    "x_test, y_test = data[\"test\"]\n",
    "\n",
    "# Kiểm tra kích thước dữ liệu\n",
    "print(f\"Train: {x_train.shape}, {y_train.shape}\")\n",
    "print(f\"Val: {x_val.shape}, {y_val.shape}\")\n",
    "print(f\"Test: {x_test.shape}, {y_test.shape}\")"
   ]
  },
  {
   "cell_type": "code",
   "execution_count": 21,
   "metadata": {},
   "outputs": [],
   "source": [
    "transform = transforms.Compose([\n",
    "    transforms.ToPILImage(),\n",
    "    transforms.Resize((224, 224)),\n",
    "    transforms.Grayscale(num_output_channels=3),  # Chuyển ảnh xám thành 3 kênh\n",
    "    transforms.ToTensor(),\n",
    "    transforms.Normalize(mean=[0.5, 0.5, 0.5], std=[0.5, 0.5, 0.5])  # Chuẩn hóa 3 kênh\n",
    "])"
   ]
  },
  {
   "cell_type": "code",
   "execution_count": 22,
   "metadata": {},
   "outputs": [],
   "source": [
    "class FERDataset(Dataset):\n",
    "    def __init__(self, images, labels, transform=None):\n",
    "        self.images = images.astype(np.uint8)  # Chuyển về kiểu uint8\n",
    "        self.labels = labels.astype(np.int64)  # Chuyển về kiểu int64\n",
    "        self.transform = transform\n",
    "\n",
    "    def __len__(self):\n",
    "        return len(self.images)\n",
    "\n",
    "    def __getitem__(self, idx):\n",
    "        img = self.images[idx]\n",
    "        label = self.labels[idx]\n",
    "\n",
    "        if self.transform:\n",
    "            img = self.transform(img)\n",
    "\n",
    "        return img, torch.tensor(label, dtype=torch.long)  # Đảm bảo label là torch.long"
   ]
  },
  {
   "cell_type": "code",
   "execution_count": 10,
   "metadata": {},
   "outputs": [],
   "source": [
    "# Load mô hình ResNet18 đã pretrained trên ImageNet\n",
    "model = models.resnet18(pretrained=True)\n",
    "\n",
    "# Thay thế fully connected layer cho bài toán classification với số lớp tương ứng\n",
    "num_ftrs = model.fc.in_features\n",
    "num_classes = len(np.unique(y_train))  # Xác định số lượng class từ dữ liệu\n",
    "model.fc = nn.Linear(num_ftrs, num_classes)\n",
    "\n",
    "# Chuyển mô hình sang GPU nếu có\n",
    "device = torch.device(\"cuda\" if torch.cuda.is_available() else \"cpu\")\n",
    "model = model.to(device)"
   ]
  },
  {
   "cell_type": "code",
   "execution_count": 11,
   "metadata": {},
   "outputs": [],
   "source": [
    "for param in model.parameters():\n",
    "    param.requires_grad = False\n",
    "\n",
    "# Chỉ cho phép fine-tuning layer cuối cùng\n",
    "for param in model.fc.parameters():\n",
    "    param.requires_grad = True"
   ]
  },
  {
   "cell_type": "code",
   "execution_count": 12,
   "metadata": {},
   "outputs": [],
   "source": [
    "for name, param in model.named_parameters():\n",
    "    if 'layer4' in name or 'fc' in name:  # Unfreeze layer4 và FC\n",
    "        param.requires_grad = True\n",
    "    else:\n",
    "        param.requires_grad = False"
   ]
  },
  {
   "cell_type": "code",
   "execution_count": 23,
   "metadata": {},
   "outputs": [
    {
     "name": "stdout",
     "output_type": "stream",
     "text": [
      "Epoch 1/10, Loss: 1074.3124, Train Acc: 54.85%, Val Acc: 59.46%, F1: 0.5375, Metric: 0.5661\n",
      "Epoch 2/10, Loss: 836.9963, Train Acc: 65.61%, Val Acc: 61.94%, F1: 0.6065, Metric: 0.6129\n",
      "Epoch 3/10, Loss: 623.5642, Train Acc: 74.52%, Val Acc: 61.86%, F1: 0.5867, Metric: 0.6027\n",
      "Epoch 4/10, Loss: 399.9234, Train Acc: 83.81%, Val Acc: 63.75%, F1: 0.6205, Metric: 0.6290\n",
      "Epoch 5/10, Loss: 236.0592, Train Acc: 91.09%, Val Acc: 63.50%, F1: 0.6150, Metric: 0.6250\n",
      "Epoch 6/10, Loss: 160.2859, Train Acc: 93.97%, Val Acc: 62.19%, F1: 0.6047, Metric: 0.6133\n",
      "Epoch 7/10, Loss: 118.1186, Train Acc: 95.70%, Val Acc: 62.89%, F1: 0.6061, Metric: 0.6175\n",
      "Epoch 8/10, Loss: 102.0102, Train Acc: 96.15%, Val Acc: 63.30%, F1: 0.6215, Metric: 0.6273\n",
      "Epoch 9/10, Loss: 96.9618, Train Acc: 96.54%, Val Acc: 63.05%, F1: 0.6130, Metric: 0.6218\n",
      "Epoch 10/10, Loss: 81.5107, Train Acc: 96.96%, Val Acc: 63.47%, F1: 0.6245, Metric: 0.6296\n"
     ]
    }
   ],
   "source": [
    "# Định nghĩa Loss function và Optimizer\n",
    "criterion = nn.CrossEntropyLoss()\n",
    "optimizer = optim.Adam(model.parameters(), lr=0.001)\n",
    "\n",
    "# Tạo DataLoader\n",
    "train_dataset = FERDataset(x_train, y_train, transform=transform)\n",
    "val_dataset = FERDataset(x_val, y_val, transform=transform)\n",
    "\n",
    "train_loader = DataLoader(train_dataset, batch_size=32, shuffle=True)\n",
    "val_loader = DataLoader(val_dataset, batch_size=32, shuffle=False)\n",
    "\n",
    "# Training loop\n",
    "num_epochs = 10\n",
    "for epoch in range(num_epochs):\n",
    "    model.train()\n",
    "    running_loss = 0.0\n",
    "    correct, total = 0, 0\n",
    "    for images, labels in train_loader:\n",
    "        images, labels = images.to(device), labels.to(device)\n",
    "\n",
    "        optimizer.zero_grad()\n",
    "        outputs = model(images)\n",
    "        loss = criterion(outputs, labels)\n",
    "        loss.backward()\n",
    "        optimizer.step()\n",
    "\n",
    "        running_loss += loss.item()\n",
    "        _, predicted = torch.max(outputs, 1)\n",
    "        correct += (predicted == labels).sum().item()\n",
    "        total += labels.size(0)\n",
    "\n",
    "    train_acc = 100 * correct / total\n",
    "\n",
    "    # Đánh giá trên validation set\n",
    "    model.eval()\n",
    "    correct, total = 0, 0\n",
    "    all_preds, all_labels = [], []\n",
    "    with torch.no_grad():\n",
    "        for images, labels in val_loader:\n",
    "            images, labels = images.to(device), labels.to(device)\n",
    "            outputs = model(images)\n",
    "            _, predicted = torch.max(outputs, 1)\n",
    "            correct += (predicted == labels).sum().item()\n",
    "            total += labels.size(0)\n",
    "\n",
    "            all_preds.extend(predicted.cpu().numpy())\n",
    "            all_labels.extend(labels.cpu().numpy())\n",
    "\n",
    "    val_acc = 100 * correct / total\n",
    "    f1 = f1_score(all_labels, all_preds, average=\"macro\")\n",
    "    metric = 0.5 * (val_acc / 100 + f1)\n",
    "\n",
    "    print(\n",
    "        f\"Epoch {epoch+1}/{num_epochs}, Loss: {running_loss:.4f}, Train Acc: {train_acc:.2f}%, Val Acc: {val_acc:.2f}%, F1: {f1:.4f}, Metric: {metric:.4f}\"\n",
    "    )"
   ]
  },
  {
   "cell_type": "code",
   "execution_count": 24,
   "metadata": {},
   "outputs": [
    {
     "name": "stdout",
     "output_type": "stream",
     "text": [
      "Test Accuracy: 64.08%, F1 Score: 0.6305, Final Metric: 0.6357\n"
     ]
    }
   ],
   "source": [
    "test_dataset = FERDataset(x_test, y_test, transform=transform)\n",
    "test_loader = DataLoader(test_dataset, batch_size=32, shuffle=False)\n",
    "\n",
    "model.eval()\n",
    "correct, total = 0, 0\n",
    "all_preds, all_labels = [], []\n",
    "with torch.no_grad():\n",
    "    for images, labels in test_loader:\n",
    "        images, labels = images.to(device), labels.to(device)\n",
    "        outputs = model(images)\n",
    "        _, predicted = torch.max(outputs, 1)\n",
    "        correct += (predicted == labels).sum().item()\n",
    "        total += labels.size(0)\n",
    "\n",
    "        all_preds.extend(predicted.cpu().numpy())\n",
    "        all_labels.extend(labels.cpu().numpy())\n",
    "\n",
    "test_acc = 100 * correct / total\n",
    "test_f1 = f1_score(all_labels, all_preds, average='macro')\n",
    "test_metric = 0.5 * (test_acc / 100 + test_f1)\n",
    "\n",
    "print(f\"Test Accuracy: {test_acc:.2f}%, F1 Score: {test_f1:.4f}, Final Metric: {test_metric:.4f}\")"
   ]
  }
 ],
 "metadata": {
  "colab": {
   "provenance": []
  },
  "kernelspec": {
   "display_name": "Python 3",
   "name": "python3"
  },
  "language_info": {
   "codemirror_mode": {
    "name": "ipython",
    "version": 3
   },
   "file_extension": ".py",
   "mimetype": "text/x-python",
   "name": "python",
   "nbconvert_exporter": "python",
   "pygments_lexer": "ipython3",
   "version": "3.10.0rc2"
  }
 },
 "nbformat": 4,
 "nbformat_minor": 0
}
