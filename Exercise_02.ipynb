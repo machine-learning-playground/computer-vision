{
 "cells": [
  {
   "cell_type": "markdown",
   "metadata": {
    "id": "pU0NfyFfSNlE"
   },
   "source": [
    "---\n",
    "```\n",
    "Class: DPCV - SDH@HK242 - HCMUT\n",
    "Name: Nguyễn Lê Nhật Minh\n",
    "Exercise: 02\n",
    "\n",
    "```\n",
    "---"
   ]
  },
  {
   "cell_type": "code",
   "execution_count": 4,
   "metadata": {},
   "outputs": [],
   "source": [
    "import torch\n",
    "import torch.nn as nn\n",
    "import torch.optim as optim\n",
    "import torchvision.transforms as transforms\n",
    "import torchvision.models as models\n",
    "import numpy as np\n",
    "from torch.utils.data import Dataset, DataLoader\n",
    "from sklearn.metrics import accuracy_score, f1_score"
   ]
  },
  {
   "cell_type": "code",
   "execution_count": 5,
   "metadata": {},
   "outputs": [
    {
     "name": "stdout",
     "output_type": "stream",
     "text": [
      "Train: (28709, 48, 48), (28709,)\n",
      "Val: (3589, 48, 48), (3589,)\n",
      "Test: (3589, 48, 48), (3589,)\n"
     ]
    }
   ],
   "source": [
    "# Tải dataset từ file .npy.\n",
    "# https://drive.google.com/file/d/1ZgUIHN-tM2-W3zfKZnRA0jsq_EDyfxKm/view?usp=sharing\n",
    "fer13_path = \"./datasets/fer13_v2.npy\"\n",
    "data = np.load(fer13_path, allow_pickle=True).item()\n",
    "\n",
    "x_train, y_train = data[\"train\"]\n",
    "x_val, y_val = data[\"val\"]\n",
    "x_test, y_test = data[\"test\"]\n",
    "\n",
    "# Kiểm tra kích thước dữ liệu\n",
    "print(f\"Train: {x_train.shape}, {y_train.shape}\")\n",
    "print(f\"Val: {x_val.shape}, {y_val.shape}\")\n",
    "print(f\"Test: {x_test.shape}, {y_test.shape}\")"
   ]
  },
  {
   "cell_type": "code",
   "execution_count": 6,
   "metadata": {},
   "outputs": [],
   "source": [
    "transform = transforms.Compose([\n",
    "    transforms.ToPILImage(),\n",
    "    transforms.Resize((224, 224)),\n",
    "    transforms.Grayscale(num_output_channels=3),  # Chuyển ảnh xám thành 3 kênh\n",
    "    transforms.ToTensor(),\n",
    "    transforms.Normalize(mean=[0.5, 0.5, 0.5], std=[0.5, 0.5, 0.5])  # Chuẩn hóa 3 kênh\n",
    "])"
   ]
  },
  {
   "cell_type": "code",
   "execution_count": 7,
   "metadata": {},
   "outputs": [],
   "source": [
    "class FERDataset(Dataset):\n",
    "    def __init__(self, images, labels, transform=None):\n",
    "        self.images = images.astype(np.uint8)  # Chuyển về kiểu uint8\n",
    "        self.labels = labels.astype(np.int64)  # Chuyển về kiểu int64\n",
    "        self.transform = transform\n",
    "\n",
    "    def __len__(self):\n",
    "        return len(self.images)\n",
    "\n",
    "    def __getitem__(self, idx):\n",
    "        img = self.images[idx]\n",
    "        label = self.labels[idx]\n",
    "\n",
    "        if self.transform:\n",
    "            img = self.transform(img)\n",
    "\n",
    "        return img, torch.tensor(label, dtype=torch.long)  # Đảm bảo label là torch.long"
   ]
  },
  {
   "cell_type": "code",
   "execution_count": 8,
   "metadata": {},
   "outputs": [
    {
     "name": "stderr",
     "output_type": "stream",
     "text": [
      "c:\\Users\\ADMIN\\AppData\\Local\\Programs\\Python\\Python310\\lib\\site-packages\\torchvision\\models\\_utils.py:208: UserWarning: The parameter 'pretrained' is deprecated since 0.13 and may be removed in the future, please use 'weights' instead.\n",
      "  warnings.warn(\n",
      "c:\\Users\\ADMIN\\AppData\\Local\\Programs\\Python\\Python310\\lib\\site-packages\\torchvision\\models\\_utils.py:223: UserWarning: Arguments other than a weight enum or `None` for 'weights' are deprecated since 0.13 and may be removed in the future. The current behavior is equivalent to passing `weights=ResNet18_Weights.IMAGENET1K_V1`. You can also use `weights=ResNet18_Weights.DEFAULT` to get the most up-to-date weights.\n",
      "  warnings.warn(msg)\n",
      "Downloading: \"https://download.pytorch.org/models/resnet18-f37072fd.pth\" to C:\\Users\\ADMIN/.cache\\torch\\hub\\checkpoints\\resnet18-f37072fd.pth\n",
      "100%|██████████| 44.7M/44.7M [00:02<00:00, 20.0MB/s]\n"
     ]
    }
   ],
   "source": [
    "# Tạo DataLoader\n",
    "train_dataset = FERDataset(x_train, y_train, transform=transform)\n",
    "val_dataset = FERDataset(x_val, y_val, transform=transform)\n",
    "\n",
    "train_loader = DataLoader(train_dataset, batch_size=32, shuffle=True)\n",
    "val_loader = DataLoader(val_dataset, batch_size=32, shuffle=False)\n",
    "\n",
    "device = torch.device(\"cuda\" if torch.cuda.is_available() else \"cpu\")\n",
    "\n",
    "# Load mô hình ResNet18 đã pretrained trên ImageNet\n",
    "model = models.resnet18(pretrained=True)\n",
    "\n",
    "# Thay thế fully connected layer cho bài toán classification với số lớp tương ứng\n",
    "num_ftrs = model.fc.in_features\n",
    "num_classes = len(np.unique(y_train))  # Xác định số lượng class từ dữ liệu\n",
    "model.fc = nn.Linear(num_ftrs, num_classes)"
   ]
  },
  {
   "cell_type": "code",
   "execution_count": 9,
   "metadata": {},
   "outputs": [],
   "source": [
    "# Hàm huấn luyện\n",
    "def train_model(model, optimizer, criterion, num_epochs=10):\n",
    "    history = {\"train_acc\": [], \"val_acc\": [], \"f1\": []}\n",
    "\n",
    "    for epoch in range(num_epochs):\n",
    "        model.train()\n",
    "        correct, total, running_loss = 0, 0, 0.0\n",
    "\n",
    "        for images, labels in train_loader:\n",
    "            images, labels = images.to(device), labels.to(device)\n",
    "\n",
    "            optimizer.zero_grad()\n",
    "            outputs = model(images)\n",
    "            loss = criterion(outputs, labels)\n",
    "            loss.backward()\n",
    "            optimizer.step()\n",
    "\n",
    "            running_loss += loss.item()\n",
    "            _, predicted = torch.max(outputs, 1)\n",
    "            correct += (predicted == labels).sum().item()\n",
    "            total += labels.size(0)\n",
    "\n",
    "        train_acc = 100 * correct / total\n",
    "\n",
    "        # Đánh giá trên validation set\n",
    "        model.eval()\n",
    "        correct, total = 0, 0\n",
    "        all_preds, all_labels = [], []\n",
    "\n",
    "        with torch.no_grad():\n",
    "            for images, labels in val_loader:\n",
    "                images, labels = images.to(device), labels.to(device)\n",
    "                outputs = model(images)\n",
    "                _, predicted = torch.max(outputs, 1)\n",
    "                correct += (predicted == labels).sum().item()\n",
    "                total += labels.size(0)\n",
    "\n",
    "                all_preds.extend(predicted.cpu().numpy())\n",
    "                all_labels.extend(labels.cpu().numpy())\n",
    "\n",
    "        val_acc = 100 * correct / total\n",
    "        f1 = f1_score(all_labels, all_preds, average=\"macro\")\n",
    "        metric = 0.5 * (val_acc / 100 + f1)\n",
    "\n",
    "        print(\n",
    "            f\"Epoch {epoch+1}/{num_epochs}, Loss: {running_loss:.4f}, Train Acc: {train_acc:.2f}%, Val Acc: {val_acc:.2f}%, F1: {f1:.4f}, Metric: {metric:.4f}\"\n",
    "        )\n",
    "\n",
    "        history[\"train_acc\"].append(train_acc)\n",
    "        history[\"val_acc\"].append(val_acc)\n",
    "        history[\"f1\"].append(f1)\n",
    "\n",
    "    return history, model"
   ]
  },
  {
   "cell_type": "code",
   "execution_count": 10,
   "metadata": {},
   "outputs": [],
   "source": [
    "# ----------- 1. Freeze toàn bộ mô hình (chỉ train lớp cuối cùng) -----------\n",
    "# Chuyển mô hình sang GPU nếu có\n",
    "model1 = model.to(device)\n",
    "\n",
    "for param in model1.parameters():\n",
    "    param.requires_grad = False\n",
    "\n",
    "# Chỉ cho phép fine-tuning layer cuối cùng\n",
    "for param in model1.fc.parameters():\n",
    "    param.requires_grad = True\n",
    "\n",
    "optimizer1 = optim.Adam(model1.fc.parameters(), lr=0.001)"
   ]
  },
  {
   "cell_type": "code",
   "execution_count": 11,
   "metadata": {},
   "outputs": [],
   "source": [
    "# ----------- 2. Freeze một phần đầu của mô hình -----------\n",
    "# Chuyển mô hình sang GPU nếu có\n",
    "model2 = model.to(device)\n",
    "\n",
    "for name, param in model2.named_parameters():\n",
    "    if 'layer4' in name or 'fc' in name:  # Unfreeze layer4 và FC\n",
    "        param.requires_grad = True\n",
    "    else:\n",
    "        param.requires_grad = False\n",
    "\n",
    "optimizer2 = optim.Adam(filter(lambda p: p.requires_grad, model2.parameters()), lr=0.001)"
   ]
  },
  {
   "cell_type": "code",
   "execution_count": 12,
   "metadata": {},
   "outputs": [
    {
     "name": "stdout",
     "output_type": "stream",
     "text": [
      "Epoch 1/10, Loss: 1428.4898, Train Acc: 38.14%, Val Acc: 41.54%, F1: 0.3473, Metric: 0.3814\n",
      "Epoch 2/10, Loss: 1342.8347, Train Acc: 42.79%, Val Acc: 42.96%, F1: 0.3516, Metric: 0.3906\n",
      "Epoch 3/10, Loss: 1320.3039, Train Acc: 43.82%, Val Acc: 42.27%, F1: 0.3413, Metric: 0.3820\n",
      "Epoch 4/10, Loss: 1309.6211, Train Acc: 43.97%, Val Acc: 44.44%, F1: 0.3736, Metric: 0.4090\n",
      "Epoch 5/10, Loss: 1304.9779, Train Acc: 44.39%, Val Acc: 44.08%, F1: 0.3821, Metric: 0.4114\n",
      "Epoch 6/10, Loss: 1296.0432, Train Acc: 44.59%, Val Acc: 43.44%, F1: 0.3679, Metric: 0.4011\n",
      "Epoch 7/10, Loss: 1293.8162, Train Acc: 44.96%, Val Acc: 44.33%, F1: 0.3702, Metric: 0.4067\n",
      "Epoch 8/10, Loss: 1297.5162, Train Acc: 44.29%, Val Acc: 42.13%, F1: 0.3671, Metric: 0.3942\n",
      "Epoch 9/10, Loss: 1287.6918, Train Acc: 45.21%, Val Acc: 44.44%, F1: 0.3923, Metric: 0.4184\n",
      "Epoch 10/10, Loss: 1285.4970, Train Acc: 45.21%, Val Acc: 44.05%, F1: 0.3886, Metric: 0.4146\n",
      "Epoch 1/10, Loss: 1098.6696, Train Acc: 54.47%, Val Acc: 56.14%, F1: 0.4703, Metric: 0.5159\n",
      "Epoch 2/10, Loss: 842.3540, Train Acc: 65.27%, Val Acc: 60.99%, F1: 0.5661, Metric: 0.5880\n",
      "Epoch 3/10, Loss: 648.1353, Train Acc: 73.52%, Val Acc: 62.47%, F1: 0.6132, Metric: 0.6189\n",
      "Epoch 4/10, Loss: 433.6071, Train Acc: 82.48%, Val Acc: 62.69%, F1: 0.6164, Metric: 0.6216\n",
      "Epoch 5/10, Loss: 264.0507, Train Acc: 89.85%, Val Acc: 62.47%, F1: 0.6138, Metric: 0.6192\n",
      "Epoch 6/10, Loss: 181.1527, Train Acc: 93.16%, Val Acc: 63.30%, F1: 0.6237, Metric: 0.6283\n",
      "Epoch 7/10, Loss: 129.1097, Train Acc: 95.33%, Val Acc: 63.11%, F1: 0.6142, Metric: 0.6227\n",
      "Epoch 8/10, Loss: 112.3741, Train Acc: 95.69%, Val Acc: 63.47%, F1: 0.6216, Metric: 0.6282\n",
      "Epoch 9/10, Loss: 103.8645, Train Acc: 96.11%, Val Acc: 64.20%, F1: 0.6252, Metric: 0.6336\n",
      "Epoch 10/10, Loss: 85.9529, Train Acc: 96.73%, Val Acc: 63.53%, F1: 0.6224, Metric: 0.6288\n"
     ]
    }
   ],
   "source": [
    "criterion = nn.CrossEntropyLoss()\n",
    "\n",
    "history1, trained_model1 = train_model(model1, optimizer1, criterion)\n",
    "history2, trained_model2 = train_model(model2, optimizer2, criterion)"
   ]
  },
  {
   "cell_type": "code",
   "execution_count": null,
   "metadata": {},
   "outputs": [
    {
     "data": {
      "image/png": "[encoded data removed]",
      "text/plain": [
       "<Figure size 1200x500 with 1 Axes>"
      ]
     },
     "metadata": {},
     "output_type": "display_data"
    }
   ],
   "source": [
    "# ------------- So sánh kết quả -------------\n",
    "import matplotlib.pyplot as plt\n",
    "\n",
    "plt.figure(figsize=(12, 5))\n",
    "plt.plot(history1[\"val_acc\"], label=\"Exclude last only\", marker=\"o\")\n",
    "plt.plot(history2[\"val_acc\"], label=\"Exclude layer4 & FC\", marker=\"s\")\n",
    "plt.xlabel(\"Epochs\")\n",
    "plt.ylabel(\"Validation Accuracy (%)\")\n",
    "plt.title(\"So sánh 2 phương pháp trên tập Validation\")\n",
    "plt.legend()\n",
    "plt.show()"
   ]
  },
  {
   "cell_type": "code",
   "execution_count": 16,
   "metadata": {},
   "outputs": [
    {
     "name": "stdout",
     "output_type": "stream",
     "text": [
      "Test Accuracy: 64.53%, F1 Score: 0.6324, Final Metric: 0.6389\n"
     ]
    },
    {
     "data": {
      "text/plain": [
       "(64.53050989133463, 0.6324211540634498, 0.638863126488398)"
      ]
     },
     "execution_count": 16,
     "metadata": {},
     "output_type": "execute_result"
    }
   ],
   "source": [
    "test_dataset = FERDataset(x_test, y_test, transform=transform)\n",
    "test_loader = DataLoader(test_dataset, batch_size=32, shuffle=False)\n",
    "\n",
    "def evaluate_model(model, test_loader, device):\n",
    "    \"\"\"Đánh giá mô hình trên tập test\"\"\"\n",
    "    model.eval()\n",
    "    correct, total = 0, 0\n",
    "    all_preds, all_labels = [], []\n",
    "\n",
    "    with torch.no_grad():\n",
    "        for images, labels in test_loader:\n",
    "            images, labels = images.to(device), labels.to(device)\n",
    "            outputs = model(images)\n",
    "            _, predicted = torch.max(outputs, 1)\n",
    "            correct += (predicted == labels).sum().item()\n",
    "            total += labels.size(0)\n",
    "\n",
    "            all_preds.extend(predicted.cpu().numpy())\n",
    "            all_labels.extend(labels.cpu().numpy())\n",
    "\n",
    "    test_acc = 100 * correct / total\n",
    "    test_f1 = f1_score(all_labels, all_preds, average='macro')\n",
    "    test_metric = 0.5 * (test_acc / 100 + test_f1)\n",
    "\n",
    "    print(f\"Test Accuracy: {test_acc:.2f}%, F1 Score: {test_f1:.4f}, Final Metric: {test_metric:.4f}\")\n",
    "\n",
    "    return test_acc, test_f1, test_metric\n",
    "\n",
    "evaluate_model(model, test_loader, device)"
   ]
  }
 ],
 "metadata": {
  "colab": {
   "provenance": []
  },
  "kernelspec": {
   "display_name": "Python 3",
   "name": "python3"
  },
  "language_info": {
   "codemirror_mode": {
    "name": "ipython",
    "version": 3
   },
   "file_extension": ".py",
   "mimetype": "text/x-python",
   "name": "python",
   "nbconvert_exporter": "python",
   "pygments_lexer": "ipython3",
   "version": "3.10.10"
  }
 },
 "nbformat": 4,
 "nbformat_minor": 0
}
