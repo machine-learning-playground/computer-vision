{
 "cells": [
  {
   "cell_type": "markdown",
   "metadata": {
    "id": "pU0NfyFfSNlE"
   },
   "source": [
    "---\n",
    "```\n",
    "Class: DPCV - SDH@HK242 - HCMUT\n",
    "Name: Nguyễn Lê Nhật Minh\n",
    "Exercise: 01\n",
    "\n",
    "```\n",
    "---"
   ]
  },
  {
   "cell_type": "code",
   "execution_count": 1,
   "metadata": {
    "id": "8thOGjMtRBGj"
   },
   "outputs": [],
   "source": [
    "import numpy as np\n",
    "from scipy.signal import correlate2d\n",
    "from scipy import ndimage"
   ]
  },
  {
   "cell_type": "code",
   "execution_count": 2,
   "metadata": {
    "id": "s34zz5ejROdY"
   },
   "outputs": [],
   "source": [
    "def deep_conv_func(input_f: np.array, kernel_h: np.array, padding: bool = False, padding_mode='zero') -> np.array:\n",
    "    \"\"\"\n",
    "    input_f: 2D array, input array\n",
    "    kernel_h: 2D array, kernel array\n",
    "    padding: boolean, True/False, padding or not\n",
    "    padding_mode: zero/replicator/reflection\n",
    "\n",
    "    Output: output_g, 2D array\n",
    "    \"\"\"\n",
    "    ######### YOUR CODE IN HERE ################\n",
    "    # Validate input\n",
    "    if input_f.ndim != 2 or kernel_h.ndim != 2:\n",
    "        raise ValueError(\"Both input_f and kernel_h must be 2D arrays\")\n",
    "\n",
    "    kernel_h_h, kernel_h_w = kernel_h.shape\n",
    "    ######### END CODE IN HERE ################\n",
    "\n",
    "    if padding:\n",
    "        if padding_mode == 'zero':\n",
    "            mode = 'constant'\n",
    "            pad_value = 0\n",
    "        else:\n",
    "            raise ValueError(f'Unknown padding mode {padding_mode}')\n",
    "\n",
    "        # Do padding,\n",
    "        # https://numpy.org/doc/stable/reference/generated/numpy.pad.html\n",
    "        ######### YOUR CODE IN HERE ################\n",
    "        pad_h = kernel_h_h // 2\n",
    "        pad_w = kernel_h_w // 2\n",
    "        input_f = np.pad(input_f, ((pad_h, pad_h), (pad_w, pad_w)),\n",
    "                         mode=mode, constant_values=pad_value)\n",
    "        ######### END CODE IN HERE ################\n",
    "\n",
    "    output_h = input_f.shape[0] - kernel_h_h + 1\n",
    "    output_w = input_f.shape[1] - kernel_h_w + 1\n",
    "\n",
    "    # Initialize the output array with zeros\n",
    "    output_g = np.zeros((output_h, output_w))\n",
    "\n",
    "    # Do Calculation, for loop\n",
    "\n",
    "    ######### YOUR CODE IN HERE ################\n",
    "    for i in range(output_h):\n",
    "        for j in range(output_w):\n",
    "            region = input_f[i:i + kernel_h_h, j:j + kernel_h_w]\n",
    "            output_g[i, j] = np.sum(region * kernel_h)\n",
    "\n",
    "    ######### END CODE IN HERE ################\n",
    "    return output_g"
   ]
  },
  {
   "cell_type": "code",
   "execution_count": 9,
   "metadata": {
    "id": "FiCB4APuR72a"
   },
   "outputs": [
    {
     "name": "stdout",
     "output_type": "stream",
     "text": [
      "Checking zero padding deep conv: True\n",
      "Checking zero padding deep conv:  True\n"
     ]
    }
   ],
   "source": [
    "input_arr = np.random.randn(32, 48)\n",
    "kernel_arr = np.random.randn(3, 5)\n",
    "\n",
    "corr_zp = deep_conv_func(input_arr, kernel_arr, padding=False)\n",
    "scipy_zp = correlate2d(input_arr, kernel_arr, mode='valid')\n",
    "print('Checking zero padding deep conv:', np.sum(np.abs(corr_zp-scipy_zp)) < 1e-8)\n",
    "\n",
    "corr_refp = deep_conv_func(input_arr, kernel_arr, padding=True, padding_mode='zero')\n",
    "scipy_refp = correlate2d(input_arr, kernel_arr, mode='same') # Fill in correct parameters\n",
    "print('Checking zero padding deep conv: ', np.sum(np.abs(corr_refp-scipy_refp)) < 1e-8)"
   ]
  }
 ],
 "metadata": {
  "colab": {
   "provenance": []
  },
  "kernelspec": {
   "display_name": "Python 3",
   "name": "python3"
  },
  "language_info": {
   "codemirror_mode": {
    "name": "ipython",
    "version": 3
   },
   "file_extension": ".py",
   "mimetype": "text/x-python",
   "name": "python",
   "nbconvert_exporter": "python",
   "pygments_lexer": "ipython3",
   "version": "3.10.10"
  }
 },
 "nbformat": 4,
 "nbformat_minor": 0
}
