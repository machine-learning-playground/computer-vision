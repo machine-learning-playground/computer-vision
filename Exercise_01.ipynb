{
 "cells": [
  {
   "cell_type": "markdown",
   "metadata": {
    "id": "pU0NfyFfSNlE"
   },
   "source": [
    "---\n",
    "```\n",
    "Class: DPCV - SDH@HK242 - HCMUT\n",
    "Name: Nguyễn Lê Nhật Minh\n",
    "Exercise: 01\n",
    "\n",
    "```\n",
    "---"
   ]
  },
  {
   "cell_type": "code",
   "execution_count": 1,
   "metadata": {
    "id": "8thOGjMtRBGj"
   },
   "outputs": [],
   "source": [
    "import numpy as np\n",
    "from scipy.signal import correlate2d\n",
    "from scipy import ndimage"
   ]
  },
  {
   "cell_type": "code",
   "execution_count": null,
   "metadata": {
    "id": "s34zz5ejROdY"
   },
   "outputs": [],
   "source": [
    "def deep_conv_func(input_f: np.array, kernel_h: np.array, padding: bool=False, padding_mode='zero') -> np.array:\n",
    "  \"\"\"\n",
    "  input_f: 2D array, input array\n",
    "  kernel_h: 2D array, kernel array\n",
    "  padding: boolean, True/False, padding or not\n",
    "  padding_mode: zero/replicator/reflection\n",
    "\n",
    "  Output: output_g, 2D array\n",
    "  \"\"\"\n",
    "  ######### YOUR CODE IN HERE ################\n",
    "\n",
    "  pass\n",
    "  ######### END CODE IN HERE ################\n",
    "\n",
    "  if padding:\n",
    "    if padding_mode == 'zero':\n",
    "      mode='constant'\n",
    "    else:\n",
    "      raise ValueError(f'Unknown padding mode {padding_mode}')\n",
    "\n",
    "    # Do padding,\n",
    "    # https://numpy.org/doc/stable/reference/generated/numpy.pad.html\n",
    "    ######### YOUR CODE IN HERE ################\n",
    "\n",
    "    pass\n",
    "    ######### END CODE IN HERE ################\n",
    "  else:\n",
    "    # No padding => shape of output_g will be smaller than the input\n",
    "    ######### YOUR CODE IN HERE ################\n",
    "    pass\n",
    "\n",
    "    ######### END CODE IN HERE ################\n",
    "\n",
    "  # Initialize the output array with zeros\n",
    "  output_g = None\n",
    "\n",
    "  # Do Calculation, for loop\n",
    "\n",
    "  ######### YOUR CODE IN HERE ################\n",
    "    pass\n",
    "\n",
    "  ######### END CODE IN HERE ################\n",
    "  return output_g"
   ]
  },
  {
   "cell_type": "code",
   "execution_count": null,
   "metadata": {
    "id": "FiCB4APuR72a"
   },
   "outputs": [],
   "source": [
    "input_arr = np.random.randn(32, 48)\n",
    "kernel_arr = np.random.randn(3,5)\n",
    "\n",
    "corr_zp = deep_conv_func(input_arr, kernel_arr, padding=False)\n",
    "scipy_zp = correlate2d(input_arr, kernel_arr, mode='valid')\n",
    "print('Checking zero padding deep conv:', np.sum(np.abs(corr_zp-scipy_zp)) < 1e-8)\n",
    "\n",
    "corr_refp = deep_conv_func(input_arr, kernel_arr, padding=True, padding_mode='zero')\n",
    "scipy_refp = correlate2d() # Fill in correct parameters\n",
    "print('Checking zero padding deep conv: ', np.sum(np.abs(corr_refp-scipy_refp)) < 1e-8)"
   ]
  }
 ],
 "metadata": {
  "colab": {
   "provenance": []
  },
  "kernelspec": {
   "display_name": "Python 3",
   "name": "python3"
  },
  "language_info": {
   "codemirror_mode": {
    "name": "ipython",
    "version": 3
   },
   "file_extension": ".py",
   "mimetype": "text/x-python",
   "name": "python",
   "nbconvert_exporter": "python",
   "pygments_lexer": "ipython3",
   "version": "3.10.0rc2"
  }
 },
 "nbformat": 4,
 "nbformat_minor": 0
}
